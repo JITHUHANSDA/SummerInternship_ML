{
 "cells": [
  {
   "cell_type": "code",
   "execution_count": 2,
   "id": "13f71e3c",
   "metadata": {},
   "outputs": [],
   "source": [
    "db=[[1,\"vimal\",1111,'ok'],[2,\"raj\",2222,\"good\"],[3,\"pop\",3333,\"vgood\"],[4,\"rahul\",4444,\"vgood\"]]"
   ]
  },
  {
   "cell_type": "code",
   "execution_count": null,
   "id": "34a27c98",
   "metadata": {},
   "outputs": [],
   "source": []
  },
  {
   "cell_type": "code",
   "execution_count": 4,
   "id": "2f4cd3df",
   "metadata": {},
   "outputs": [
    {
     "data": {
      "text/plain": [
       "[[1, 'vimal', 1111, 'ok'],\n",
       " [2, 'raj', 2222, 'good'],\n",
       " [3, 'pop', 3333, 'vgood'],\n",
       " [4, 'rahul', 4444, 'vgood']]"
      ]
     },
     "execution_count": 4,
     "metadata": {},
     "output_type": "execute_result"
    }
   ],
   "source": [
    "d"
   ]
  },
  {
   "cell_type": "code",
   "execution_count": 5,
   "id": "bf1fcb89",
   "metadata": {},
   "outputs": [],
   "source": [
    "import numpy"
   ]
  },
  {
   "cell_type": "code",
   "execution_count": null,
   "id": "66ec40fd",
   "metadata": {},
   "outputs": [],
   "source": []
  }
 ],
 "metadata": {
  "kernelspec": {
   "display_name": "Python 3",
   "language": "python",
   "name": "python3"
  },
  "language_info": {
   "codemirror_mode": {
    "name": "ipython",
    "version": 3
   },
   "file_extension": ".py",
   "mimetype": "text/x-python",
   "name": "python",
   "nbconvert_exporter": "python",
   "pygments_lexer": "ipython3",
   "version": "3.8.8"
  }
 },
 "nbformat": 4,
 "nbformat_minor": 5
}
